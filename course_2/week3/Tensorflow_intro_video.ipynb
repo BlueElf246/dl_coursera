{
 "cells": [
  {
   "cell_type": "code",
   "execution_count": 1,
   "id": "ac88463e",
   "metadata": {},
   "outputs": [
    {
     "name": "stderr",
     "output_type": "stream",
     "text": [
      "2023-04-03 09:27:05.240253: I tensorflow/core/platform/cpu_feature_guard.cc:193] This TensorFlow binary is optimized with oneAPI Deep Neural Network Library (oneDNN) to use the following CPU instructions in performance-critical operations:  SSE4.1 SSE4.2 AVX AVX2 FMA\n",
      "To enable them in other operations, rebuild TensorFlow with the appropriate compiler flags.\n"
     ]
    }
   ],
   "source": [
    "import numpy as np\n",
    "import tensorflow as tf"
   ]
  },
  {
   "cell_type": "code",
   "execution_count": 3,
   "id": "de7a08f4",
   "metadata": {},
   "outputs": [],
   "source": [
    "w = tf.Variable(0, dtype= tf.float32)\n",
    "optimizer = tf.keras.optimizers.Adam(0.1)"
   ]
  },
  {
   "cell_type": "code",
   "execution_count": 8,
   "id": "58658530",
   "metadata": {},
   "outputs": [
    {
     "name": "stdout",
     "output_type": "stream",
     "text": [
      "<tf.Variable 'Variable:0' shape=() dtype=float32, numpy=0.0>\n"
     ]
    }
   ],
   "source": [
    "def train_test():\n",
    "    with tf.GradientTape() as tape:\n",
    "        cost = w**2 - 10*w +25\n",
    "        trainable_variable = [w]\n",
    "        grads = tape.gradient(cost, trainable_variable)\n",
    "        optimizer.apply_gradients(zip(grads, trainable_variable))\n",
    "        \n",
    "print(w)\n"
   ]
  },
  {
   "cell_type": "code",
   "execution_count": 9,
   "id": "677457ea",
   "metadata": {},
   "outputs": [
    {
     "name": "stdout",
     "output_type": "stream",
     "text": [
      "<tf.Variable 'Variable:0' shape=() dtype=float32, numpy=0.09999997>\n"
     ]
    }
   ],
   "source": [
    "train_test()\n",
    "print(w)"
   ]
  },
  {
   "cell_type": "code",
   "execution_count": 10,
   "id": "c92e60b3",
   "metadata": {},
   "outputs": [
    {
     "name": "stdout",
     "output_type": "stream",
     "text": [
      "<tf.Variable 'Variable:0' shape=() dtype=float32, numpy=5.000001>\n"
     ]
    }
   ],
   "source": [
    "for i in range(1000):\n",
    "    train_test()\n",
    "print(w)"
   ]
  },
  {
   "cell_type": "code",
   "execution_count": 12,
   "id": "e0bde913",
   "metadata": {},
   "outputs": [],
   "source": [
    "w = tf.Variable(0, dtype= tf.float32)\n",
    "x = np.array([1.0, -10.0, 25.0], dtype=np.float32)\n",
    "optimizer = tf.keras.optimizers.Adam(0.1)"
   ]
  },
  {
   "cell_type": "code",
   "execution_count": 18,
   "id": "3536792d",
   "metadata": {},
   "outputs": [
    {
     "name": "stdout",
     "output_type": "stream",
     "text": [
      "<tf.Variable 'Variable:0' shape=() dtype=float32, numpy=0.09999997>\n"
     ]
    },
    {
     "data": {
      "text/plain": [
       "<tf.Variable 'Variable:0' shape=() dtype=float32, numpy=5.000001>"
      ]
     },
     "execution_count": 18,
     "metadata": {},
     "output_type": "execute_result"
    }
   ],
   "source": [
    "\n",
    "def training(x,w, optimizer):\n",
    "    def cost():\n",
    "        cost = x[0]*w**2+ x[1]*w + x[2]\n",
    "        return cost\n",
    "    for i in range(1000):\n",
    "        optimizer.minimize(cost,[w])\n",
    "    return w\n",
    "    \n",
    "print(w)\n",
    "training(x,w, optimizer)"
   ]
  },
  {
   "cell_type": "code",
   "execution_count": null,
   "id": "bade0ffc",
   "metadata": {},
   "outputs": [],
   "source": []
  }
 ],
 "metadata": {
  "kernelspec": {
   "display_name": "local-venv",
   "language": "python",
   "name": "local-venv"
  },
  "language_info": {
   "codemirror_mode": {
    "name": "ipython",
    "version": 3
   },
   "file_extension": ".py",
   "mimetype": "text/x-python",
   "name": "python",
   "nbconvert_exporter": "python",
   "pygments_lexer": "ipython3",
   "version": "3.10.9"
  }
 },
 "nbformat": 4,
 "nbformat_minor": 5
}
